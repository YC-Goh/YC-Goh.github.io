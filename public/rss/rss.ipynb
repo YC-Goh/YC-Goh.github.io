{
 "cells": [
  {
   "cell_type": "code",
   "execution_count": null,
   "id": "eec65830",
   "metadata": {},
   "outputs": [],
   "source": [
    "import pandas as pd\n",
    "from transformers import pipeline\n",
    "import os   \n",
    "os.environ['TF_USE_LEGACY_KERAS'] = '1'"
   ]
  },
  {
   "cell_type": "code",
   "execution_count": null,
   "id": "e630e5d6",
   "metadata": {},
   "outputs": [],
   "source": [
    "df = pd.read_csv('data/daily/rss_20250713.csv')\n",
    "df['publish_datetime'] = pd.to_datetime(df['publish_date'] + ' ' + df['publish_time'])\n",
    "df.info()"
   ]
  },
  {
   "cell_type": "code",
   "execution_count": null,
   "id": "ea7a539a",
   "metadata": {},
   "outputs": [],
   "source": [
    "classifier = pipeline('zero-shot-classification', model='facebook/bart-large-mnli')\n",
    "def classify_text_generator(text: str, candidate_labels: list):\n",
    "    def classify_text(text: str):\n",
    "        return classifier(text, candidate_labels=candidate_labels, multi_label=True)\n",
    "    return classify_text\n",
    "df['classification'] = df['headline'].apply(classify_text_generator(text=df['headline'][0], candidate_labels=['Technology', 'Science', 'Health', 'Business', 'Politics']))"
   ]
  },
  {
   "cell_type": "code",
   "execution_count": null,
   "id": "082c5c4a",
   "metadata": {},
   "outputs": [],
   "source": [
    "df.loc[0, 'classification']"
   ]
  }
 ],
 "metadata": {
  "kernelspec": {
   "display_name": "datascience",
   "language": "python",
   "name": "python3"
  },
  "language_info": {
   "codemirror_mode": {
    "name": "ipython",
    "version": 3
   },
   "file_extension": ".py",
   "mimetype": "text/x-python",
   "name": "python",
   "nbconvert_exporter": "python",
   "pygments_lexer": "ipython3",
   "version": "3.12.11"
  }
 },
 "nbformat": 4,
 "nbformat_minor": 5
}
